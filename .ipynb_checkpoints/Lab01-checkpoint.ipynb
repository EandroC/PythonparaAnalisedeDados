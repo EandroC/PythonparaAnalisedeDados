{
 "cells": [
  {
   "cell_type": "markdown",
   "id": "9817a87b-0682-41e3-8685-e9d9e91071c4",
   "metadata": {},
   "source": [
    "# Variáveis e tipos de dados"
   ]
  },
  {
   "cell_type": "markdown",
   "id": "c2832116-1565-4f4f-914f-29bc65e1ac52",
   "metadata": {},
   "source": [
    "## 1. Olá mundo!\r\n",
    "Nela, escreva o texto \"Olá mundo!\", utilize a função print."
   ]
  },
  {
   "cell_type": "code",
   "execution_count": 1,
   "id": "90ed1b78-55ee-463e-893d-51754ea0643c",
   "metadata": {},
   "outputs": [
    {
     "name": "stdout",
     "output_type": "stream",
     "text": [
      "Olá mundo!\n"
     ]
    }
   ],
   "source": [
    "print('Olá mundo!')"
   ]
  },
  {
   "cell_type": "markdown",
   "id": "41b3d664-f7c6-495d-9d70-53a88a0919a4",
   "metadata": {},
   "source": [
    "## 2. Use expressões algébricas para calcular (A), (B) e (C) na tabela de ticket médio abaixo:\r",
    "| Dia    | Valor Total Vendas | Qtd. Total Vendas | Ticket Médio |\r\n",
    "|--------|--------------------|-------------------|--------------|\r\n",
    "| 19/01  | (A)                | 3                 | 320.52       |\r\n",
    "| 20/01  | 834.47             | (B)               | 119.21       |\r\n",
    "| 23/01  | 15378.12           | 5                 | (C)        |\r\n",
    "\n",
    "\r\n"
   ]
  },
  {
   "cell_type": "code",
   "execution_count": 2,
   "id": "9851289a-537f-4f2f-ad10-4707ee7e1fe5",
   "metadata": {},
   "outputs": [
    {
     "name": "stdout",
     "output_type": "stream",
     "text": [
      "(A) =  961.56\n",
      "(B) =  7.000000000000001\n",
      "(C) =  3075.6240000000003\n"
     ]
    }
   ],
   "source": [
    "# 19/01\n",
    "qtd_total_vendas_1 = 3\n",
    "ticket_medio_1 = 320.52\n",
    "\n",
    "# 20/01\n",
    "valor_total_vendas_2 = 834.47\n",
    "ticket_medio_2 = 119.21\n",
    "\n",
    "# 23/01\n",
    "valor_total_vendas_3 = 15378.12\n",
    "qtd_total_vendas_3 = 5\n",
    "\n",
    "A = valor_total_vendas_1 = qtd_total_vendas_1 * ticket_medio_1\n",
    "B = qtd_total_vendas_2 = valor_total_vendas_2 / ticket_medio_2\n",
    "C = ticket_medio_3 = valor_total_vendas_3 / qtd_total_vendas_3\n",
    "\n",
    "print('(A) = ', A)\n",
    "print('(B) = ', B)\n",
    "print('(C) = ', C)"
   ]
  },
  {
   "cell_type": "markdown",
   "id": "8e0d6c1f-7593-48c7-bf8e-e84f25783ff3",
   "metadata": {},
   "source": [
    "## 3.  Aplique três métodos distintos na string abaixo.\n",
    "cancao = 'Roda mundo, roda gigante, roda moinho, roda pião.' \n",
    "\n",
    "Substitua todas as vírgulas por barras /\n",
    "Deixe a string em maiúscula\n",
    "Encontre a posição da palavra \"moinho\" na string"
   ]
  },
  {
   "cell_type": "code",
   "execution_count": 3,
   "id": "1480b902-06ba-46e6-9d47-0692e4fd487f",
   "metadata": {},
   "outputs": [
    {
     "name": "stdout",
     "output_type": "stream",
     "text": [
      "Roda mundo/ roda gigante/ roda moinho/ roda pião.\n",
      "RODA MUNDO, RODA GIGANTE, RODA MOINHO, RODA PIÃO.\n",
      "31\n"
     ]
    }
   ],
   "source": [
    "cancao = 'Roda mundo, roda gigante, roda moinho, roda pião.'\n",
    "\n",
    "# Substitua todas as vírgulas por barras /\n",
    "result1 = cancao.replace(\",\", \"/\")\n",
    "print(result1)\n",
    "\n",
    "# Deixe a string em maiúscula\n",
    "result2 = cancao.upper()\n",
    "print(result2)\n",
    "\n",
    "# Encontre a posição da palavra \"moinho\" na string\n",
    "result3 = cancao.find(\"moinho\")\n",
    "print(result3)"
   ]
  },
  {
   "cell_type": "markdown",
   "id": "c8b645bd-e615-415a-8f57-abbdc25207e6",
   "metadata": {},
   "source": [
    "## 4. Extraia da string abaixo o valor da taxa selic na variável selic e o valor do ano na variável ano. Imprima os valores na tela.\r\n",
    "noticia = 'Selic vai a 2,75% e supera expectativas; ' + \\ 'é a primeira alta em 6 anos.'"
   ]
  },
  {
   "cell_type": "code",
   "execution_count": 4,
   "id": "2de22561-bd61-4696-b55f-6160b20c81a6",
   "metadata": {},
   "outputs": [
    {
     "name": "stdout",
     "output_type": "stream",
     "text": [
      "2,75\n",
      "6\n"
     ]
    }
   ],
   "source": [
    "noticia = 'Selic vai a 2,75% e supera expectativas é a primeira alta em 6 anos.'\n",
    "\n",
    "selic = noticia[12:16]\n",
    "print(selic)\n",
    "\n",
    "ano = noticia[-7:-6]\n",
    "print(ano)"
   ]
  },
  {
   "cell_type": "markdown",
   "id": "cbf0ff51-ca53-452a-83b3-8520f19b77c7",
   "metadata": {},
   "source": [
    "## 5. Utilize a tabela da verdade para responder: qual o valor da variáveL x?"
   ]
  },
  {
   "cell_type": "code",
   "execution_count": 5,
   "id": "6ae57c22-0c1f-4bd2-829f-70d6cec5d85f",
   "metadata": {},
   "outputs": [],
   "source": [
    "#TABELA VERDADE\n",
    "# a = False\n",
    "# b = True\n",
    "# x = not a & b"
   ]
  },
  {
   "cell_type": "code",
   "execution_count": 6,
   "id": "5df911d1-7af3-4dd0-8823-fbf5f3240880",
   "metadata": {},
   "outputs": [
    {
     "name": "stdout",
     "output_type": "stream",
     "text": [
      "True\n"
     ]
    }
   ],
   "source": [
    "a = False\n",
    "b = True\n",
    "x = not a & b\n",
    "\n",
    "print(x)"
   ]
  }
 ],
 "metadata": {
  "kernelspec": {
   "display_name": "Python 3 (ipykernel)",
   "language": "python",
   "name": "python3"
  },
  "language_info": {
   "codemirror_mode": {
    "name": "ipython",
    "version": 3
   },
   "file_extension": ".py",
   "mimetype": "text/x-python",
   "name": "python",
   "nbconvert_exporter": "python",
   "pygments_lexer": "ipython3",
   "version": "3.11.7"
  }
 },
 "nbformat": 4,
 "nbformat_minor": 5
}
