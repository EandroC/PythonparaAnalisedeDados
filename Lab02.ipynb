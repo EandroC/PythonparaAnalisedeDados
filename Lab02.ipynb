{
 "cells": [
  {
   "cell_type": "markdown",
   "id": "37d972f7-a674-4b74-b6e8-4e626c227f58",
   "metadata": {},
   "source": [
    "# Estrutura de dados"
   ]
  },
  {
   "cell_type": "markdown",
   "id": "8fe6167c-9585-4034-87c7-8b9ef7695172",
   "metadata": {},
   "source": [
    "## 1. Crie uma lista chamada filmes com o nome dos 10 primeiros filmes mais bem avaliados no site no IMDB utilizando a seguinte estrutura: filmes = [...]\r\n",
    "Simule a movimentação do ranking. Para isso, utilize os métodos insert e pop para trocar a posição do primeiro e do segundo filme da lista \n",
    "\r\n",
    "Imprima o resultado."
   ]
  },
  {
   "cell_type": "code",
   "execution_count": 1,
   "id": "96143f17-e1fd-44f8-958b-e27a4bdc231d",
   "metadata": {},
   "outputs": [
    {
     "name": "stdout",
     "output_type": "stream",
     "text": [
      "['O Poderoso Chefão', 'Um Sonho de Liberdade', 'Batman: O Cavaleiro das Trevas', 'O Poderoso Chefão II', '12 Homens e uma Sentença', 'A Lista de Schindler', 'O Senhor dos Anéis: O Retorno do Rei', 'Pulp Fiction: Tempo de Violência', 'O Senhor dos Anéis: A Sociedade do Anel', 'Três Homens em Conflito']\n"
     ]
    }
   ],
   "source": [
    "filmes = ['Um Sonho de Liberdade', 'O Poderoso Chefão', 'Batman: O Cavaleiro das Trevas', 'O Poderoso Chefão II', '12 Homens e uma Sentença',\n",
    "          'A Lista de Schindler', 'O Senhor dos Anéis: O Retorno do Rei', 'Pulp Fiction: Tempo de Violência', 'O Senhor dos Anéis: A Sociedade do Anel',\n",
    "          'Três Homens em Conflito'\n",
    "]\n",
    "\n",
    "filmes.pop(1)\n",
    "filmes.insert(0, 'O Poderoso Chefão')\n",
    "\n",
    "print(filmes)"
   ]
  },
  {
   "cell_type": "markdown",
   "id": "44660068-cbd0-4c36-87d0-738576da1dfc",
   "metadata": {},
   "source": [
    "## 2. De alguma forma, obtivemos uma lista de filmes com valores duplicados.\r\n",
    "Utilize a conversão para conjunto e, em seguida, novamente para lista para remover os duplicados. Armazene o resultado de volta na variável filmes \n",
    "\r\n",
    "Imprima o resultado."
   ]
  },
  {
   "cell_type": "code",
   "execution_count": 2,
   "id": "c88e44dc-e23d-4740-b824-ecf5f64ddf2c",
   "metadata": {},
   "outputs": [
    {
     "name": "stdout",
     "output_type": "stream",
     "text": [
      "['The Godfather', 'Pulp Fiction', '12 Angry Men', \"Schindler's List\", 'The Lord of the Rings: The Return of the King', 'The Dark Knight', 'The Shawshank Redemption', 'The Lord of the Rings: The Fellowship of the Ring', 'The Godfather Part II', 'The Good, the Bad and the Ugly']\n"
     ]
    }
   ],
   "source": [
    "filmes = [\n",
    "    'The Shawshank Redemption',\n",
    "    'The Godfather',\n",
    "    'The Dark Knight',\n",
    "    'The Godfather Part II',\n",
    "    'The Godfather',\n",
    "    '12 Angry Men',\n",
    "    'Schindler\\'s List',\n",
    "    'The Lord of the Rings: The Return of the King',\n",
    "    'Pulp Fiction',\n",
    "    'The Shawshank Redemption',\n",
    "    'The Lord of the Rings: The Fellowship of the Ring',\n",
    "    'The Good, the Bad and the Ugly',\n",
    "    'Pulp Fiction'\n",
    "]\n",
    "\n",
    "filmes = set(filmes)\n",
    "filmes = list(filmes)\n",
    "\n",
    "print(filmes)"
   ]
  },
  {
   "cell_type": "markdown",
   "id": "37dc4ded-5710-4848-9520-3584c057fb30",
   "metadata": {},
   "source": [
    "## 3. Neste momento, repita o passo a passo de criação da lista feita anteriormente: uma lista chamada filmes com o nome dos 10 primeiros filmes mais bem avaliados no site no IMDB. \n",
    "\n",
    "Adicione mais informações a essa estrutura de dados com o ano e a sinopse de cada filme \n",
    "\r\n",
    "Os elementos da lista filmes devem ser dicionários no seguinte format e>}"
   ]
  },
  {
   "cell_type": "code",
   "execution_count": 3,
   "id": "ec7749cb-d16b-44a6-a57e-c46a9bfabaad",
   "metadata": {},
   "outputs": [],
   "source": [
    "# {'nome': <nome-do-filme>, 'ano': <ano do filme>, 'sinopse': <sinopse do filme>}"
   ]
  },
  {
   "cell_type": "code",
   "execution_count": 4,
   "id": "53a48d45-e7d4-43d8-98c4-d60a550d2fb1",
   "metadata": {},
   "outputs": [
    {
     "name": "stdout",
     "output_type": "stream",
     "text": [
      "[{'nome': 'Um Sonho de Liberdade', 'ano': 1994, 'sinopse': 'Dois homens presos se reúnem ao longo de vários anos, encontrando consolo e eventual redenção através de atos de decência comum.'}, {'nome': 'O Poderoso Chefão', 'ano': 1972, 'sinopse': 'O patriarca idoso de uma dinastia do crime organizado transfere o controle de seu império clandestino para seu filho relutante.'}, {'nome': 'Batman: O Cavaleiro das Trevas', 'ano': 2008, 'sinopse': 'Agora com a ajuda do tenente Jim Gordon e do promotor público Harvey Dent, Batman tem tudo para banir o crime de Gotham City de uma vez por todas. Mas em breve, os três serão vítimas do Coringa, que pretende lançar Gotham em uma anarquia.'}, {'nome': 'O Poderoso Chefão II', 'ano': 1974, 'sinopse': 'Em 1950, Michael Corleone, agora à frente da família, tenta expandir o negócio do crime a Las Vegas, Los Angeles e Cuba. Paralelamente, é revelada a história de Vito Corleone, e de como saiu da Sicília e chegou a Nova Iorque.'}, {'nome': '12 Homens e uma Sentença', 'ano': 1957, 'sinopse': 'O julgamento de um assassinato em Nova Iorque é frustrado por um único membro, cujo ceticismo força o júri a considerar cuidadosamente as evidências antes de dar o veredito.'}, {'nome': 'A Lista de Schindler', 'ano': 1993, 'sinopse': 'Na Polônia ocupada pelos alemães durante a Segunda Guerra Mundial, o industrial Oskar Schindler começa a ser preocupar com seus trabalhadores judeus depois de testemunhar sua perseguição pelos nazistas.'}, {'nome': 'O Senhor dos Anéis: O Retorno do Rei', 'ano': 2003, 'sinopse': 'Gandalf e Aragorn lideram o Mundo dos Homens contra o exército de Sauron para desviar o olhar de Frodo e Sam quando eles se aproximam á Montanha da Perdição com o Um Anel.'}, {'nome': 'Pulp Fiction: Tempo de Violência', 'ano': 1994, 'sinopse': 'As vidas de dois assassinos da máfia, um boxeador, um gângster e sua esposa, e um par de bandidos se entrelaçam em quatro histórias de violência e redenção.'}, {'nome': 'O Senhor dos Anéis: A Sociedade do Anel', 'ano': 2001, 'sinopse': 'Um manso hobbit do Condado e oito companheiros partem em uma jornada para destruir o poderoso Um Anel e salvar a Terra-média das Trevas.'}, {'nome': 'Três Homens em Conflito', 'ano': 1966, 'sinopse': 'Um impostor se junta com dois homens para encontrar fortuna num remoto cemitério.'}]\n"
     ]
    }
   ],
   "source": [
    "lista_filmes = ['Um Sonho de Liberdade',\n",
    "                'O Poderoso Chefão',\n",
    "                'Batman: O Cavaleiro das Trevas',\n",
    "                'O Poderoso Chefão II',\n",
    "                '12 Homens e uma Sentença',\n",
    "                'A Lista de Schindler',\n",
    "                'O Senhor dos Anéis: O Retorno do Rei',\n",
    "                'Pulp Fiction: Tempo de Violência',\n",
    "                'O Senhor dos Anéis: A Sociedade do Anel',\n",
    "                'Três Homens em Conflito']\n",
    "\n",
    "lista_anos = [1994, 1972, 2008, 1974, 1957, 1993, 2003, 1994, 2001, 1966]\n",
    "\n",
    "lista_sinopses = ['Dois homens presos se reúnem ao longo de vários anos, encontrando consolo e eventual redenção através de atos de decência comum.',\n",
    "                  'O patriarca idoso de uma dinastia do crime organizado transfere o controle de seu império clandestino para seu filho relutante.',\n",
    "                  'Agora com a ajuda do tenente Jim Gordon e do promotor público Harvey Dent, Batman tem tudo para banir o crime de Gotham City de uma vez por todas. Mas em breve, os três serão vítimas do Coringa, que pretende lançar Gotham em uma anarquia.', \n",
    "                  'Em 1950, Michael Corleone, agora à frente da família, tenta expandir o negócio do crime a Las Vegas, Los Angeles e Cuba. Paralelamente, é revelada a história de Vito Corleone, e de como saiu da Sicília e chegou a Nova Iorque.',\n",
    "                  'O julgamento de um assassinato em Nova Iorque é frustrado por um único membro, cujo ceticismo força o júri a considerar cuidadosamente as evidências antes de dar o veredito.',\n",
    "                  'Na Polônia ocupada pelos alemães durante a Segunda Guerra Mundial, o industrial Oskar Schindler começa a ser preocupar com seus trabalhadores judeus depois de testemunhar sua perseguição pelos nazistas.', \n",
    "                  'Gandalf e Aragorn lideram o Mundo dos Homens contra o exército de Sauron para desviar o olhar de Frodo e Sam quando eles se aproximam á Montanha da Perdição com o Um Anel.',\n",
    "                  'As vidas de dois assassinos da máfia, um boxeador, um gângster e sua esposa, e um par de bandidos se entrelaçam em quatro histórias de violência e redenção.',\n",
    "                  'Um manso hobbit do Condado e oito companheiros partem em uma jornada para destruir o poderoso Um Anel e salvar a Terra-média das Trevas.',\n",
    "                  'Um impostor se junta com dois homens para encontrar fortuna num remoto cemitério.']\n",
    "\n",
    "filmes = [{'nome': filme, 'ano': ano, 'sinopse' : sinopse} for filme, ano, sinopse in zip(\n",
    "    lista_filmes,\n",
    "    lista_anos,\n",
    "    lista_sinopses\n",
    ")]\n",
    "\n",
    "\n",
    "print(filmes)"
   ]
  }
 ],
 "metadata": {
  "kernelspec": {
   "display_name": "Python 3 (ipykernel)",
   "language": "python",
   "name": "python3"
  },
  "language_info": {
   "codemirror_mode": {
    "name": "ipython",
    "version": 3
   },
   "file_extension": ".py",
   "mimetype": "text/x-python",
   "name": "python",
   "nbconvert_exporter": "python",
   "pygments_lexer": "ipython3",
   "version": "3.11.7"
  }
 },
 "nbformat": 4,
 "nbformat_minor": 5
}
